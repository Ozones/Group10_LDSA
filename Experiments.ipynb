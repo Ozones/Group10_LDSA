{
 "cells": [
  {
   "cell_type": "code",
   "execution_count": 1,
   "metadata": {},
   "outputs": [],
   "source": [
    "from pyspark.sql import SparkSession\n",
    "\n",
    "# New API\n",
    "spark_session = SparkSession\\\n",
    "        .builder\\\n",
    "        .master(\"spark://group101:7077\") \\\n",
    "        .appName(\"simple_example\")\\\n",
    "        .getOrCreate()\n",
    "\n",
    "# Old API (RDD)\n",
    "spark_context = spark_session.sparkContext"
   ]
  },
  {
   "cell_type": "code",
   "execution_count": 12,
   "metadata": {},
   "outputs": [],
   "source": [
    "fasta_file = spark_context.textFile('file:///home/ubuntu/data/pdb_seqres.txt')"
   ]
  },
  {
   "cell_type": "code",
   "execution_count": 4,
   "metadata": {},
   "outputs": [
    {
     "data": {
      "text/plain": [
       "['>101m_A mol:protein length:154  MYOGLOBIN',\n",
       " 'MVLSEGEWQLVLHVWAKVEADVAGHGQDILIRLFKSHPETLEKFDRVKHLKTEAEMKASEDLKKHGVTVLTALGAILKKKGHHEAELKPLAQSHATKHKIPIKYLEFISEAIIHVLHSRHPGNFGADAQGAMNKALELFRKDIAAKYKELGYQG',\n",
       " '>102l_A mol:protein length:165  T4 LYSOZYME',\n",
       " 'MNIFEMLRIDEGLRLKIYKDTEGYYTIGIGHLLTKSPSLNAAAKSELDKAIGRNTNGVITKDEAEKLFNQDVDAAVRGILRNAKLKPVYDSLDAVRRAALINMVFQMGETGVAGFTNSLRMLQQKRWDEAAVNLAKSRWYNQTPNRAKRVITTFRTGTWDAYKNL',\n",
       " '>102m_A mol:protein length:154  MYOGLOBIN']"
      ]
     },
     "execution_count": 4,
     "metadata": {},
     "output_type": "execute_result"
    }
   ],
   "source": []
  },
  {
   "cell_type": "code",
   "execution_count": 13,
   "metadata": {},
   "outputs": [],
   "source": [
    "# Split the fasta file into headers and amino acid sequences\n",
    "headers = fasta_file.filter(lambda x: \">\" in x)\n",
    "sequences = fasta_file.filter(lambda x: \">\" not in x)"
   ]
  },
  {
   "cell_type": "code",
   "execution_count": 6,
   "metadata": {},
   "outputs": [
    {
     "data": {
      "text/plain": [
       "['>101m_A mol:protein length:154  MYOGLOBIN',\n",
       " '>102l_A mol:protein length:165  T4 LYSOZYME',\n",
       " '>102m_A mol:protein length:154  MYOGLOBIN',\n",
       " '>103l_A mol:protein length:167  T4 LYSOZYME',\n",
       " '>103m_A mol:protein length:154  MYOGLOBIN']"
      ]
     },
     "execution_count": 6,
     "metadata": {},
     "output_type": "execute_result"
    }
   ],
   "source": [
    "headers.take(5)"
   ]
  },
  {
   "cell_type": "code",
   "execution_count": 7,
   "metadata": {},
   "outputs": [
    {
     "data": {
      "text/plain": [
       "446948"
      ]
     },
     "execution_count": 7,
     "metadata": {},
     "output_type": "execute_result"
    }
   ],
   "source": [
    "headers.count()"
   ]
  },
  {
   "cell_type": "code",
   "execution_count": 8,
   "metadata": {},
   "outputs": [],
   "source": [
    "sequences.count()"
   ]
  },
  {
   "cell_type": "code",
   "execution_count": 9,
   "metadata": {},
   "outputs": [
    {
     "data": {
      "text/plain": [
       "['MVLSEGEWQLVLHVWAKVEADVAGHGQDILIRLFKSHPETLEKFDRVKHLKTEAEMKASEDLKKHGVTVLTALGAILKKKGHHEAELKPLAQSHATKHKIPIKYLEFISEAIIHVLHSRHPGNFGADAQGAMNKALELFRKDIAAKYKELGYQG',\n",
       " 'MNIFEMLRIDEGLRLKIYKDTEGYYTIGIGHLLTKSPSLNAAAKSELDKAIGRNTNGVITKDEAEKLFNQDVDAAVRGILRNAKLKPVYDSLDAVRRAALINMVFQMGETGVAGFTNSLRMLQQKRWDEAAVNLAKSRWYNQTPNRAKRVITTFRTGTWDAYKNL',\n",
       " 'MVLSEGEWQLVLHVWAKVEADVAGHGQDILIRLFKSHPETLEKFDRFKHLKTEAEMKASEDLKKAGVTVLTALGAILKKKGHHEAELKPLAQSHATKHKIPIKYLEFISEAIIHVLHSRHPGNFGADAQGAMNKALELFRKDIAAKYKELGYQG',\n",
       " 'MNIFEMLRIDEGLRLKIYKDTEGYYTIGIGHLLTKSPSLNSLDAAKSELDKAIGRNTNGVITKDEAEKLFNQDVDAAVRGILRNAKLKPVYDSLDAVRRAALINMVFQMGETGVAGFTNSLRMLQQKRWDEAAVNLAKSRWYNQTPNRAKRVITTFRTGTWDAYKNL',\n",
       " 'MVLSEGEWQLVLHVWAKVEADVAGHGQDILIRLFKSHPETLEKFDRFKHLKTEAEMKASEDLKKAGVTVLTALGAILKKKGHHEAELKPLAQSHATKHKIPIKYLEFISEAIIHVLHSRHPGNFGADAQGAMNKALELFRKDIAAKYKELGYQG']"
      ]
     },
     "execution_count": 9,
     "metadata": {},
     "output_type": "execute_result"
    }
   ],
   "source": [
    "sequences.take(5)"
   ]
  },
  {
   "cell_type": "code",
   "execution_count": 18,
   "metadata": {},
   "outputs": [],
   "source": [
    "split=sequences.map(lambda seq: seq.split(\"\"))"
   ]
  },
  {
   "cell_type": "code",
   "execution_count": 20,
   "metadata": {},
   "outputs": [
    {
     "ename": "NameError",
     "evalue": "name 'add' is not defined",
     "output_type": "error",
     "traceback": [
      "\u001b[0;31m---------------------------------------------------------------------------\u001b[0m",
      "\u001b[0;31mNameError\u001b[0m                                 Traceback (most recent call last)",
      "\u001b[0;32m<ipython-input-20-c0fe770021d3>\u001b[0m in \u001b[0;36m<module>\u001b[0;34m()\u001b[0m\n\u001b[0;32m----> 1\u001b[0;31m \u001b[0mcounts\u001b[0m\u001b[0;34m=\u001b[0m\u001b[0msequences\u001b[0m\u001b[0;34m.\u001b[0m\u001b[0mflatMap\u001b[0m\u001b[0;34m(\u001b[0m\u001b[0;32mlambda\u001b[0m \u001b[0mx\u001b[0m\u001b[0;34m:\u001b[0m\u001b[0;34m[\u001b[0m\u001b[0;34m(\u001b[0m\u001b[0mc\u001b[0m\u001b[0;34m,\u001b[0m\u001b[0;36m1\u001b[0m\u001b[0;34m)\u001b[0m \u001b[0;32mfor\u001b[0m \u001b[0mc\u001b[0m \u001b[0;32min\u001b[0m \u001b[0mx\u001b[0m\u001b[0;34m]\u001b[0m\u001b[0;34m)\u001b[0m\u001b[0;34m.\u001b[0m\u001b[0mreduceByKey\u001b[0m\u001b[0;34m(\u001b[0m\u001b[0madd\u001b[0m\u001b[0;34m)\u001b[0m\u001b[0;34m\u001b[0m\u001b[0m\n\u001b[0m",
      "\u001b[0;31mNameError\u001b[0m: name 'add' is not defined"
     ]
    }
   ],
   "source": [
    "#counts=sequences.flatMap(lambda x:[(c,1) for c in x]).reduceByKey(add)"
   ]
  },
  {
   "cell_type": "code",
   "execution_count": 21,
   "metadata": {},
   "outputs": [],
   "source": [
    "# function that \n",
    "def count_occur(str):\n",
    "   uniq = set(str)\n",
    "   li = list(str)\n",
    "   dict = {}\n",
    "   for key in uniq:\n",
    "       dict[key] = str.count(key)\n",
    "   return dict"
   ]
  },
  {
   "cell_type": "code",
   "execution_count": 26,
   "metadata": {},
   "outputs": [
    {
     "data": {
      "text/plain": [
       "[{'A': 17,\n",
       "  'D': 6,\n",
       "  'E': 14,\n",
       "  'F': 5,\n",
       "  'G': 11,\n",
       "  'H': 12,\n",
       "  'I': 9,\n",
       "  'K': 19,\n",
       "  'L': 18,\n",
       "  'M': 3,\n",
       "  'N': 2,\n",
       "  'P': 4,\n",
       "  'Q': 5,\n",
       "  'R': 4,\n",
       "  'S': 6,\n",
       "  'T': 5,\n",
       "  'V': 9,\n",
       "  'W': 2,\n",
       "  'Y': 3},\n",
       " {'A': 17,\n",
       "  'D': 10,\n",
       "  'E': 8,\n",
       "  'F': 5,\n",
       "  'G': 11,\n",
       "  'H': 1,\n",
       "  'I': 10,\n",
       "  'K': 13,\n",
       "  'L': 16,\n",
       "  'M': 5,\n",
       "  'N': 12,\n",
       "  'P': 3,\n",
       "  'Q': 5,\n",
       "  'R': 13,\n",
       "  'S': 6,\n",
       "  'T': 12,\n",
       "  'V': 9,\n",
       "  'W': 3,\n",
       "  'Y': 6}]"
      ]
     },
     "execution_count": 26,
     "metadata": {},
     "output_type": "execute_result"
    }
   ],
   "source": [
    "# Counting the occurence of each character in each protein\n",
    "sequences.map(lambda x: count_occur(x)).take(2)"
   ]
  },
  {
   "cell_type": "code",
   "execution_count": 30,
   "metadata": {},
   "outputs": [
    {
     "data": {
      "text/plain": [
       "(1, 422820)"
      ]
     },
     "execution_count": 30,
     "metadata": {},
     "output_type": "execute_result"
    }
   ],
   "source": [
    "# Counting the length of each sequence\n",
    "lengths = sequences.map(lambda x:len(x))\n",
    "lengths.zipWithIndex().min()"
   ]
  },
  {
   "cell_type": "code",
   "execution_count": 27,
   "metadata": {},
   "outputs": [
    {
     "data": {
      "text/plain": [
       "[({'A': 17,\n",
       "   'D': 6,\n",
       "   'E': 14,\n",
       "   'F': 5,\n",
       "   'G': 11,\n",
       "   'H': 12,\n",
       "   'I': 9,\n",
       "   'K': 19,\n",
       "   'L': 18,\n",
       "   'M': 3,\n",
       "   'N': 2,\n",
       "   'P': 4,\n",
       "   'Q': 5,\n",
       "   'R': 4,\n",
       "   'S': 6,\n",
       "   'T': 5,\n",
       "   'V': 9,\n",
       "   'W': 2,\n",
       "   'Y': 3},\n",
       "  0),\n",
       " ({'A': 17,\n",
       "   'D': 10,\n",
       "   'E': 8,\n",
       "   'F': 5,\n",
       "   'G': 11,\n",
       "   'H': 1,\n",
       "   'I': 10,\n",
       "   'K': 13,\n",
       "   'L': 16,\n",
       "   'M': 5,\n",
       "   'N': 12,\n",
       "   'P': 3,\n",
       "   'Q': 5,\n",
       "   'R': 13,\n",
       "   'S': 6,\n",
       "   'T': 12,\n",
       "   'V': 9,\n",
       "   'W': 3,\n",
       "   'Y': 6},\n",
       "  1),\n",
       " ({'A': 18,\n",
       "   'D': 6,\n",
       "   'E': 14,\n",
       "   'F': 6,\n",
       "   'G': 11,\n",
       "   'H': 11,\n",
       "   'I': 9,\n",
       "   'K': 19,\n",
       "   'L': 18,\n",
       "   'M': 3,\n",
       "   'N': 2,\n",
       "   'P': 4,\n",
       "   'Q': 5,\n",
       "   'R': 4,\n",
       "   'S': 6,\n",
       "   'T': 5,\n",
       "   'V': 8,\n",
       "   'W': 2,\n",
       "   'Y': 3},\n",
       "  2),\n",
       " ({'A': 16,\n",
       "   'D': 11,\n",
       "   'E': 8,\n",
       "   'F': 5,\n",
       "   'G': 11,\n",
       "   'H': 1,\n",
       "   'I': 10,\n",
       "   'K': 13,\n",
       "   'L': 17,\n",
       "   'M': 5,\n",
       "   'N': 12,\n",
       "   'P': 3,\n",
       "   'Q': 5,\n",
       "   'R': 13,\n",
       "   'S': 7,\n",
       "   'T': 12,\n",
       "   'V': 9,\n",
       "   'W': 3,\n",
       "   'Y': 6},\n",
       "  3),\n",
       " ({'A': 18,\n",
       "   'D': 6,\n",
       "   'E': 14,\n",
       "   'F': 6,\n",
       "   'G': 11,\n",
       "   'H': 11,\n",
       "   'I': 9,\n",
       "   'K': 19,\n",
       "   'L': 18,\n",
       "   'M': 3,\n",
       "   'N': 2,\n",
       "   'P': 4,\n",
       "   'Q': 5,\n",
       "   'R': 4,\n",
       "   'S': 6,\n",
       "   'T': 5,\n",
       "   'V': 8,\n",
       "   'W': 2,\n",
       "   'Y': 3},\n",
       "  4)]"
      ]
     },
     "execution_count": 27,
     "metadata": {},
     "output_type": "execute_result"
    }
   ],
   "source": [
    "# This is with the index of each line\n",
    "sequences.map(lambda x: count_occur(x)).zipWithIndex().take(5)"
   ]
  },
  {
   "cell_type": "code",
   "execution_count": null,
   "metadata": {},
   "outputs": [],
   "source": []
  },
  {
   "cell_type": "code",
   "execution_count": null,
   "metadata": {},
   "outputs": [],
   "source": []
  },
  {
   "cell_type": "code",
   "execution_count": null,
   "metadata": {},
   "outputs": [],
   "source": []
  },
  {
   "cell_type": "code",
   "execution_count": null,
   "metadata": {},
   "outputs": [],
   "source": [
    "# release the cores for another application!\n",
    "spark_context.stop()"
   ]
  }
 ],
 "metadata": {
  "kernelspec": {
   "display_name": "Python 3",
   "language": "python",
   "name": "python3"
  },
  "language_info": {
   "codemirror_mode": {
    "name": "ipython",
    "version": 3
   },
   "file_extension": ".py",
   "mimetype": "text/x-python",
   "name": "python",
   "nbconvert_exporter": "python",
   "pygments_lexer": "ipython3",
   "version": "3.5.2"
  }
 },
 "nbformat": 4,
 "nbformat_minor": 2
}
